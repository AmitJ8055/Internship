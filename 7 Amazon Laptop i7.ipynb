{
 "cells": [
  {
   "cell_type": "code",
   "execution_count": 1,
   "id": "def3bc65",
   "metadata": {},
   "outputs": [],
   "source": [
    "import selenium\n",
    "import pandas as pd\n",
    "from selenium import webdriver\n",
    "import warnings\n",
    "warnings.filterwarnings('ignore')\n",
    "from selenium.webdriver.common.by import By\n",
    "import time"
   ]
  },
  {
   "cell_type": "code",
   "execution_count": 2,
   "id": "f2b20cbe",
   "metadata": {},
   "outputs": [],
   "source": [
    "driver=webdriver.Chrome(r'C:\\Users\\Amit\\Data Science Practice\\chromedriver.exe')"
   ]
  },
  {
   "cell_type": "code",
   "execution_count": 3,
   "id": "77315137",
   "metadata": {},
   "outputs": [],
   "source": [
    "driver.get(\"https://www.amazon.com/\")"
   ]
  },
  {
   "cell_type": "code",
   "execution_count": 4,
   "id": "3ac10a01",
   "metadata": {},
   "outputs": [],
   "source": [
    "Asearch=driver.find_element(By.ID,'twotabsearchtextbox')\n",
    "Asearch.send_keys(\"laptop\")"
   ]
  },
  {
   "cell_type": "code",
   "execution_count": 5,
   "id": "cf0ab2a6",
   "metadata": {},
   "outputs": [],
   "source": [
    "Search_Click=driver.find_element(By.CLASS_NAME,'nav-search-submit-text')\n",
    "Search_Click.click()"
   ]
  },
  {
   "cell_type": "code",
   "execution_count": 9,
   "id": "d8bceb2c",
   "metadata": {},
   "outputs": [],
   "source": [
    "Intel_Cl=driver.find_element(By.ID,'p_n_feature_thirty-one_browse-bin/23716064011')\n",
    "#(By.XPATH,'//li[@id=\"p_n_feature_thirty-one_browse-bin/23716064011\"]')\n"
   ]
  },
  {
   "cell_type": "code",
   "execution_count": 10,
   "id": "9a118143",
   "metadata": {},
   "outputs": [],
   "source": [
    "Intel_Cl.click()"
   ]
  },
  {
   "cell_type": "code",
   "execution_count": 11,
   "id": "5ee5689e",
   "metadata": {},
   "outputs": [],
   "source": [
    "driver.quit()\n"
   ]
  },
  {
   "cell_type": "code",
   "execution_count": null,
   "id": "e5c4b06d",
   "metadata": {},
   "outputs": [],
   "source": []
  }
 ],
 "metadata": {
  "kernelspec": {
   "display_name": "Python 3 (ipykernel)",
   "language": "python",
   "name": "python3"
  },
  "language_info": {
   "codemirror_mode": {
    "name": "ipython",
    "version": 3
   },
   "file_extension": ".py",
   "mimetype": "text/x-python",
   "name": "python",
   "nbconvert_exporter": "python",
   "pygments_lexer": "ipython3",
   "version": "3.9.12"
  }
 },
 "nbformat": 4,
 "nbformat_minor": 5
}

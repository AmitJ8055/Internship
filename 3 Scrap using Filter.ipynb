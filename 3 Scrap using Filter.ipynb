{
 "cells": [
  {
   "cell_type": "code",
   "execution_count": 7,
   "id": "20b06072",
   "metadata": {},
   "outputs": [],
   "source": [
    "import selenium\n",
    "import pandas as pd\n",
    "from selenium import webdriver\n",
    "import warnings\n",
    "warnings.filterwarnings('ignore')\n",
    "from selenium.webdriver.common.by import By"
   ]
  },
  {
   "cell_type": "code",
   "execution_count": 3,
   "id": "df473a5a",
   "metadata": {},
   "outputs": [],
   "source": [
    "driver=webdriver.Chrome(r'C:\\Users\\Amit\\Data Science Practice\\chromedriver.exe')"
   ]
  },
  {
   "cell_type": "code",
   "execution_count": 8,
   "id": "0621ba49",
   "metadata": {},
   "outputs": [],
   "source": [
    "driver.get(\"https://www.naukri.com/\")\n",
    "\n",
    "designation=driver.find_element(By.CLASS_NAME,'suggestor-input')\n",
    "designation.send_keys('Data Scientist')\n",
    "\n",
    "search=driver.find_element(By.CLASS_NAME,'qsbSubmit')\n",
    "search.click()"
   ]
  },
  {
   "cell_type": "code",
   "execution_count": 9,
   "id": "f69d16f4",
   "metadata": {},
   "outputs": [],
   "source": [
    "location=driver.find_element(By.XPATH,'/html/body/div[1]/div[4]/div/div/section[1]/div[2]/div[5]/div[2]/div[2]')\n",
    "location.click()"
   ]
  },
  {
   "cell_type": "code",
   "execution_count": 10,
   "id": "871a59cf",
   "metadata": {},
   "outputs": [],
   "source": [
    "salary=driver.find_element(By.XPATH,'/html/body/div[1]/div[4]/div/div/section[1]/div[2]/div[6]/div[2]/div[2]')\n",
    "salary.click()"
   ]
  },
  {
   "cell_type": "code",
   "execution_count": 13,
   "id": "66143edb",
   "metadata": {},
   "outputs": [],
   "source": [
    "job_title1=[]\n",
    "job_location1=[]\n",
    "company_name1=[]\n",
    "experience_required1=[]\n",
    "Salary_slab=[]"
   ]
  },
  {
   "cell_type": "code",
   "execution_count": 16,
   "id": "175a3f42",
   "metadata": {},
   "outputs": [],
   "source": [
    "title_tags=driver.find_elements(By.XPATH,'//a[@class=\"title ellipsis\"]')\n",
    "for i in title_tags[0:10]:\n",
    "    title=i.text\n",
    "    job_title1.append(title)\n",
    "    \n",
    "#//span[@class=\"ellipsis fleft locWdth\"]\n",
    "location_tag=driver.find_elements(By.XPATH,'//span[@class=\"ellipsis fleft locWdth\"]')\n",
    "for i in location_tag[0:10]:\n",
    "    location=i.text\n",
    "    job_location1.append(location)\n",
    "    \n",
    "company_tags=driver.find_elements(By.XPATH,'//a[@class=\"subTitle ellipsis fleft\"]')\n",
    "for i in company_tags[0:10]:\n",
    "    cname=i.text\n",
    "    company_name1.append(cname)\n",
    "    \n",
    "experience_tags=driver.find_elements(By.XPATH,'//span[@class=\"ellipsis fleft expwdth\"]')\n",
    "for i in experience_tags[0:10]:\n",
    "    experience=i.text\n",
    "    experience_required1.append(experience)"
   ]
  },
  {
   "cell_type": "code",
   "execution_count": 14,
   "id": "9124c687",
   "metadata": {},
   "outputs": [],
   "source": [
    "salary_tags=driver.find_elements(By.XPATH,'//span[@class=\"ellipsis fleft \"]')\n",
    "for i in salary_tags[0:10]:\n",
    "    salary=i.text\n",
    "    Salary_slab.append(salary)"
   ]
  },
  {
   "cell_type": "code",
   "execution_count": 17,
   "id": "330b9431",
   "metadata": {},
   "outputs": [
    {
     "name": "stdout",
     "output_type": "stream",
     "text": [
      "10 10 10 10 10\n"
     ]
    }
   ],
   "source": [
    "print(len(job_title1),len(job_location1),len(company_name1),len(experience_required1),len(Salary_slab))"
   ]
  },
  {
   "cell_type": "code",
   "execution_count": 18,
   "id": "1678d97b",
   "metadata": {},
   "outputs": [
    {
     "data": {
      "text/html": [
       "<div>\n",
       "<style scoped>\n",
       "    .dataframe tbody tr th:only-of-type {\n",
       "        vertical-align: middle;\n",
       "    }\n",
       "\n",
       "    .dataframe tbody tr th {\n",
       "        vertical-align: top;\n",
       "    }\n",
       "\n",
       "    .dataframe thead th {\n",
       "        text-align: right;\n",
       "    }\n",
       "</style>\n",
       "<table border=\"1\" class=\"dataframe\">\n",
       "  <thead>\n",
       "    <tr style=\"text-align: right;\">\n",
       "      <th></th>\n",
       "      <th>title</th>\n",
       "      <th>location</th>\n",
       "      <th>company</th>\n",
       "      <th>experience</th>\n",
       "      <th>Salary</th>\n",
       "    </tr>\n",
       "  </thead>\n",
       "  <tbody>\n",
       "    <tr>\n",
       "      <th>0</th>\n",
       "      <td>Analyst-Data Science</td>\n",
       "      <td>Gurgaon/Gurugram</td>\n",
       "      <td>AMERICAN EXPRESS</td>\n",
       "      <td>0-3 Yrs</td>\n",
       "      <td>Not disclosed</td>\n",
       "    </tr>\n",
       "    <tr>\n",
       "      <th>1</th>\n",
       "      <td>Data Scientist</td>\n",
       "      <td>Delhi / NCR, Noida(Sector-136 Noida), Ghaziaba...</td>\n",
       "      <td>Extramarks Education</td>\n",
       "      <td>3-5 Yrs</td>\n",
       "      <td>5,00,000 - 15,00,000 PA.</td>\n",
       "    </tr>\n",
       "    <tr>\n",
       "      <th>2</th>\n",
       "      <td>AWS Data Warehouse Developer - IT Industry</td>\n",
       "      <td>Delhi / NCR, Bangalore/Bengaluru, Maharashtra</td>\n",
       "      <td>GenNext India Private Limited</td>\n",
       "      <td>4-9 Yrs</td>\n",
       "      <td>5,00,000 - 10,00,000 PA.</td>\n",
       "    </tr>\n",
       "    <tr>\n",
       "      <th>3</th>\n",
       "      <td>Data Scientist</td>\n",
       "      <td>Noida</td>\n",
       "      <td>Metrix Research &amp; Analytics</td>\n",
       "      <td>3-7 Yrs</td>\n",
       "      <td>Not disclosed</td>\n",
       "    </tr>\n",
       "    <tr>\n",
       "      <th>4</th>\n",
       "      <td>SE/SSE-Data Scientist</td>\n",
       "      <td>Delhi / NCR</td>\n",
       "      <td>Bold Technology Systems</td>\n",
       "      <td>3-8 Yrs</td>\n",
       "      <td>Not disclosed</td>\n",
       "    </tr>\n",
       "    <tr>\n",
       "      <th>5</th>\n",
       "      <td>Occupancy Surveyor - Gurugram</td>\n",
       "      <td>Gurgaon/Gurugram</td>\n",
       "      <td>Vatika Hotels</td>\n",
       "      <td>5-10 Yrs</td>\n",
       "      <td>2,00,000 - 7,00,000 PA.</td>\n",
       "    </tr>\n",
       "    <tr>\n",
       "      <th>6</th>\n",
       "      <td>Data Scientist</td>\n",
       "      <td>Dehradun, Hyderabad/Secunderabad, Gurgaon/Guru...</td>\n",
       "      <td>torcai digital media</td>\n",
       "      <td>2-7 Yrs</td>\n",
       "      <td>Not disclosed</td>\n",
       "    </tr>\n",
       "    <tr>\n",
       "      <th>7</th>\n",
       "      <td>Junior Data Scientist</td>\n",
       "      <td>Delhi / NCR</td>\n",
       "      <td>Skyleaf Consultants</td>\n",
       "      <td>2-4 Yrs</td>\n",
       "      <td>4,00,000 - 9,00,000 PA.</td>\n",
       "    </tr>\n",
       "    <tr>\n",
       "      <th>8</th>\n",
       "      <td>Modeler</td>\n",
       "      <td>Noida</td>\n",
       "      <td>Resource Access Management Solutions Pvt. Ltd.</td>\n",
       "      <td>3-7 Yrs</td>\n",
       "      <td>Not disclosed</td>\n",
       "    </tr>\n",
       "    <tr>\n",
       "      <th>9</th>\n",
       "      <td>Associate Data Scientist</td>\n",
       "      <td>Noida</td>\n",
       "      <td>Navikenz India</td>\n",
       "      <td>3-8 Yrs</td>\n",
       "      <td>Not disclosed</td>\n",
       "    </tr>\n",
       "  </tbody>\n",
       "</table>\n",
       "</div>"
      ],
      "text/plain": [
       "                                        title  \\\n",
       "0                        Analyst-Data Science   \n",
       "1                              Data Scientist   \n",
       "2  AWS Data Warehouse Developer - IT Industry   \n",
       "3                              Data Scientist   \n",
       "4                       SE/SSE-Data Scientist   \n",
       "5               Occupancy Surveyor - Gurugram   \n",
       "6                              Data Scientist   \n",
       "7                       Junior Data Scientist   \n",
       "8                                     Modeler   \n",
       "9                    Associate Data Scientist   \n",
       "\n",
       "                                            location  \\\n",
       "0                                   Gurgaon/Gurugram   \n",
       "1  Delhi / NCR, Noida(Sector-136 Noida), Ghaziaba...   \n",
       "2      Delhi / NCR, Bangalore/Bengaluru, Maharashtra   \n",
       "3                                              Noida   \n",
       "4                                        Delhi / NCR   \n",
       "5                                   Gurgaon/Gurugram   \n",
       "6  Dehradun, Hyderabad/Secunderabad, Gurgaon/Guru...   \n",
       "7                                        Delhi / NCR   \n",
       "8                                              Noida   \n",
       "9                                              Noida   \n",
       "\n",
       "                                          company experience  \\\n",
       "0                                AMERICAN EXPRESS    0-3 Yrs   \n",
       "1                            Extramarks Education    3-5 Yrs   \n",
       "2                   GenNext India Private Limited    4-9 Yrs   \n",
       "3                     Metrix Research & Analytics    3-7 Yrs   \n",
       "4                         Bold Technology Systems    3-8 Yrs   \n",
       "5                                   Vatika Hotels   5-10 Yrs   \n",
       "6                            torcai digital media    2-7 Yrs   \n",
       "7                             Skyleaf Consultants    2-4 Yrs   \n",
       "8  Resource Access Management Solutions Pvt. Ltd.    3-7 Yrs   \n",
       "9                                  Navikenz India    3-8 Yrs   \n",
       "\n",
       "                     Salary  \n",
       "0             Not disclosed  \n",
       "1  5,00,000 - 15,00,000 PA.  \n",
       "2  5,00,000 - 10,00,000 PA.  \n",
       "3             Not disclosed  \n",
       "4             Not disclosed  \n",
       "5   2,00,000 - 7,00,000 PA.  \n",
       "6             Not disclosed  \n",
       "7   4,00,000 - 9,00,000 PA.  \n",
       "8             Not disclosed  \n",
       "9             Not disclosed  "
      ]
     },
     "execution_count": 18,
     "metadata": {},
     "output_type": "execute_result"
    }
   ],
   "source": [
    "df=pd.DataFrame({'title':job_title1,'location':job_location1,'company':company_name1,'experience':experience_required1,'Salary':Salary_slab})\n",
    "df"
   ]
  },
  {
   "cell_type": "code",
   "execution_count": null,
   "id": "0125fd7c",
   "metadata": {},
   "outputs": [],
   "source": []
  }
 ],
 "metadata": {
  "kernelspec": {
   "display_name": "Python 3 (ipykernel)",
   "language": "python",
   "name": "python3"
  },
  "language_info": {
   "codemirror_mode": {
    "name": "ipython",
    "version": 3
   },
   "file_extension": ".py",
   "mimetype": "text/x-python",
   "name": "python",
   "nbconvert_exporter": "python",
   "pygments_lexer": "ipython3",
   "version": "3.9.12"
  }
 },
 "nbformat": 4,
 "nbformat_minor": 5
}

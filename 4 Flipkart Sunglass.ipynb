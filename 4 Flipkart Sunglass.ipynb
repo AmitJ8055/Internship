{
 "cells": [
  {
   "cell_type": "code",
   "execution_count": 13,
   "id": "5d70a26b",
   "metadata": {},
   "outputs": [],
   "source": [
    "import selenium\n",
    "import pandas as pd\n",
    "from selenium import webdriver\n",
    "import warnings\n",
    "warnings.filterwarnings('ignore')\n",
    "from selenium.webdriver.common.by import By\n",
    "import time"
   ]
  },
  {
   "cell_type": "code",
   "execution_count": 2,
   "id": "65e1fdc8",
   "metadata": {},
   "outputs": [],
   "source": [
    "driver=webdriver.Chrome(r'C:\\Users\\Amit\\Data Science Practice\\chromedriver.exe')"
   ]
  },
  {
   "cell_type": "code",
   "execution_count": 4,
   "id": "64e0b206",
   "metadata": {},
   "outputs": [],
   "source": [
    "driver.get(\"https://www.flipkart.com/\")"
   ]
  },
  {
   "cell_type": "code",
   "execution_count": 5,
   "id": "75086da2",
   "metadata": {},
   "outputs": [],
   "source": [
    "Search=driver.find_element(By.CLASS_NAME,'_3704LK')\n",
    "Search.send_keys('Sun Glass')\n"
   ]
  },
  {
   "cell_type": "code",
   "execution_count": 8,
   "id": "27bdaa60",
   "metadata": {},
   "outputs": [],
   "source": [
    "Search_Click=driver.find_element(By.CLASS_NAME,'L0Z3Pu')\n",
    "Search_Click.click()"
   ]
  },
  {
   "cell_type": "code",
   "execution_count": 17,
   "id": "c61078d9",
   "metadata": {},
   "outputs": [],
   "source": [
    "#//div[@class=\"_2WkVRV\"]\n",
    "Brand=[]\n",
    "ProductDiscription=[]\n",
    "Price=[]\n"
   ]
  },
  {
   "cell_type": "code",
   "execution_count": 20,
   "id": "0e36784a",
   "metadata": {},
   "outputs": [],
   "source": [
    "start = 0\n",
    "end=2\n",
    "for page in range(start,end):\n",
    "    Brand_tags=driver.find_elements(By.XPATH,'//div[@class=\"_2WkVRV\"]')\n",
    "    for i in Brand_tags[0:100]:\n",
    "        BrandName=i.text\n",
    "        Brand.append(BrandName)\n",
    "\n",
    "    Price_tags=driver.find_elements(By.XPATH,'//div[@class=\"_30jeq3\"]')\n",
    "    for i in Price_tags[0:100]:\n",
    "        PriceT=i.text\n",
    "        Price.append(PriceT)\n",
    "    \n",
    "    Discription_tags=driver.find_elements(By.XPATH,'//a[@class=\"IRpwTa\"]')\n",
    "    for i in Discription_tags[0:100]:\n",
    "        Discription=i.text\n",
    "        if(Discription==''):\n",
    "         ProductDiscription.append('null')\n",
    "        else:\n",
    "         ProductDiscription.append(Discription)\n",
    "   \n",
    "    Next_Click=driver.find_element(By.XPATH,'//a[@class=\"_1LKTO3\"]')\n",
    "    Next_Click.click() \n",
    "    time.sleep(5)\n"
   ]
  },
  {
   "cell_type": "code",
   "execution_count": 23,
   "id": "d51ba7e2",
   "metadata": {},
   "outputs": [
    {
     "name": "stdout",
     "output_type": "stream",
     "text": [
      "80 80 80\n"
     ]
    }
   ],
   "source": [
    "print(len(Brand),len(ProductDiscription),len(Price))"
   ]
  },
  {
   "cell_type": "code",
   "execution_count": 30,
   "id": "ab878cb3",
   "metadata": {},
   "outputs": [
    {
     "data": {
      "text/html": [
       "<div>\n",
       "<style scoped>\n",
       "    .dataframe tbody tr th:only-of-type {\n",
       "        vertical-align: middle;\n",
       "    }\n",
       "\n",
       "    .dataframe tbody tr th {\n",
       "        vertical-align: top;\n",
       "    }\n",
       "\n",
       "    .dataframe thead th {\n",
       "        text-align: right;\n",
       "    }\n",
       "</style>\n",
       "<table border=\"1\" class=\"dataframe\">\n",
       "  <thead>\n",
       "    <tr style=\"text-align: right;\">\n",
       "      <th></th>\n",
       "      <th>Band</th>\n",
       "      <th>Product Discription</th>\n",
       "      <th>Price</th>\n",
       "    </tr>\n",
       "  </thead>\n",
       "  <tbody>\n",
       "    <tr>\n",
       "      <th>0</th>\n",
       "      <td>Rich Club</td>\n",
       "      <td>UV Protection Retro Square Sunglasses (54)</td>\n",
       "      <td>₹258</td>\n",
       "    </tr>\n",
       "    <tr>\n",
       "      <th>1</th>\n",
       "      <td>Fastrack</td>\n",
       "      <td>Polarized Retro Square Sunglasses (Free Size)</td>\n",
       "      <td>₹519</td>\n",
       "    </tr>\n",
       "    <tr>\n",
       "      <th>2</th>\n",
       "      <td>EYELLUSION</td>\n",
       "      <td>Night Vision, Polarized, UV Protection, Riding...</td>\n",
       "      <td>₹281</td>\n",
       "    </tr>\n",
       "    <tr>\n",
       "      <th>3</th>\n",
       "      <td>hayden haiza</td>\n",
       "      <td>UV Protection Retro Square Sunglasses (46)</td>\n",
       "      <td>₹299</td>\n",
       "    </tr>\n",
       "    <tr>\n",
       "      <th>4</th>\n",
       "      <td>VINCENT CHASE</td>\n",
       "      <td>by Lenskart Polarized, UV Protection Aviator S...</td>\n",
       "      <td>₹999</td>\n",
       "    </tr>\n",
       "    <tr>\n",
       "      <th>...</th>\n",
       "      <td>...</td>\n",
       "      <td>...</td>\n",
       "      <td>...</td>\n",
       "    </tr>\n",
       "    <tr>\n",
       "      <th>75</th>\n",
       "      <td>Singco India</td>\n",
       "      <td>Gradient, Toughened Glass Lens, UV Protection ...</td>\n",
       "      <td>₹664</td>\n",
       "    </tr>\n",
       "    <tr>\n",
       "      <th>76</th>\n",
       "      <td>SUNBEE</td>\n",
       "      <td>UV Protection Rectangular Sunglasses (Free Size)</td>\n",
       "      <td>₹185</td>\n",
       "    </tr>\n",
       "    <tr>\n",
       "      <th>77</th>\n",
       "      <td>SRPM</td>\n",
       "      <td>Others Wayfarer, Retro Square Sunglasses (50)</td>\n",
       "      <td>₹129</td>\n",
       "    </tr>\n",
       "    <tr>\n",
       "      <th>78</th>\n",
       "      <td>Rich Club</td>\n",
       "      <td>UV Protection Retro Square Sunglasses (54)</td>\n",
       "      <td>₹258</td>\n",
       "    </tr>\n",
       "    <tr>\n",
       "      <th>79</th>\n",
       "      <td>hayden haiza</td>\n",
       "      <td>UV Protection Retro Square Sunglasses (47)</td>\n",
       "      <td>₹399</td>\n",
       "    </tr>\n",
       "  </tbody>\n",
       "</table>\n",
       "<p>80 rows × 3 columns</p>\n",
       "</div>"
      ],
      "text/plain": [
       "             Band                                Product Discription Price\n",
       "0       Rich Club         UV Protection Retro Square Sunglasses (54)  ₹258\n",
       "1        Fastrack      Polarized Retro Square Sunglasses (Free Size)  ₹519\n",
       "2      EYELLUSION  Night Vision, Polarized, UV Protection, Riding...  ₹281\n",
       "3    hayden haiza         UV Protection Retro Square Sunglasses (46)  ₹299\n",
       "4   VINCENT CHASE  by Lenskart Polarized, UV Protection Aviator S...  ₹999\n",
       "..            ...                                                ...   ...\n",
       "75   Singco India  Gradient, Toughened Glass Lens, UV Protection ...  ₹664\n",
       "76         SUNBEE   UV Protection Rectangular Sunglasses (Free Size)  ₹185\n",
       "77           SRPM      Others Wayfarer, Retro Square Sunglasses (50)  ₹129\n",
       "78      Rich Club         UV Protection Retro Square Sunglasses (54)  ₹258\n",
       "79   hayden haiza         UV Protection Retro Square Sunglasses (47)  ₹399\n",
       "\n",
       "[80 rows x 3 columns]"
      ]
     },
     "execution_count": 30,
     "metadata": {},
     "output_type": "execute_result"
    }
   ],
   "source": [
    "df=pd.DataFrame({'Band':Brand,'Product Discription':ProductDiscription,'Price':Price})\n",
    "df"
   ]
  },
  {
   "cell_type": "code",
   "execution_count": 28,
   "id": "91d9df6d",
   "metadata": {},
   "outputs": [],
   "source": [
    "driver.quit()"
   ]
  },
  {
   "cell_type": "code",
   "execution_count": null,
   "id": "6373c8ae",
   "metadata": {},
   "outputs": [],
   "source": []
  }
 ],
 "metadata": {
  "kernelspec": {
   "display_name": "Python 3 (ipykernel)",
   "language": "python",
   "name": "python3"
  },
  "language_info": {
   "codemirror_mode": {
    "name": "ipython",
    "version": 3
   },
   "file_extension": ".py",
   "mimetype": "text/x-python",
   "name": "python",
   "nbconvert_exporter": "python",
   "pygments_lexer": "ipython3",
   "version": "3.9.12"
  }
 },
 "nbformat": 4,
 "nbformat_minor": 5
}

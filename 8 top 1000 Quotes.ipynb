{
 "cells": [
  {
   "cell_type": "code",
   "execution_count": 1,
   "id": "b1d483c3",
   "metadata": {},
   "outputs": [],
   "source": [
    "import selenium\n",
    "import pandas as pd\n",
    "from selenium import webdriver\n",
    "import warnings\n",
    "warnings.filterwarnings('ignore')\n",
    "from selenium.webdriver.common.by import By\n",
    "import time "
   ]
  },
  {
   "cell_type": "code",
   "execution_count": 2,
   "id": "ccdd90aa",
   "metadata": {},
   "outputs": [],
   "source": [
    "driver=webdriver.Chrome(r'C:\\Users\\Amit\\Data Science Practice\\chromedriver.exe')"
   ]
  },
  {
   "cell_type": "code",
   "execution_count": 3,
   "id": "787d917a",
   "metadata": {},
   "outputs": [],
   "source": [
    "driver.get('https://www.azquotes.com/')"
   ]
  },
  {
   "cell_type": "code",
   "execution_count": 5,
   "id": "a969aec1",
   "metadata": {},
   "outputs": [],
   "source": [
    "TopQuotes=driver.find_element(By.XPATH,'/html/body/div[1]/div[1]/div[1]/div/div[3]/ul/li[5]/a')\n",
    "TopQuotes.click()"
   ]
  },
  {
   "cell_type": "code",
   "execution_count": 6,
   "id": "17427157",
   "metadata": {},
   "outputs": [],
   "source": [
    "Author=[]\n",
    "Quotes=[]\n",
    "QuoteTags=[]"
   ]
  },
  {
   "cell_type": "code",
   "execution_count": 24,
   "id": "d8089301",
   "metadata": {},
   "outputs": [],
   "source": [
    "start = 0\n",
    "end=10\n",
    "p=1\n",
    "for page in range(start,end):\n",
    "    Quotes_tags=driver.find_elements(By.XPATH,'//a[@class=\"title\"]')\n",
    "    for i in Quotes_tags[0:1000]:\n",
    "        Quot=i.text\n",
    "        Quotes.append(Quot)\n",
    "        \n",
    "    Author_tags=driver.find_elements(By.XPATH,'//div[@class=\"author\"]')\n",
    "    for i in Author_tags[0:1000]:\n",
    "        Aut=i.text\n",
    "        Author.append(Aut)\n",
    "        \n",
    "    QT_tags=driver.find_elements(By.XPATH,'//div[@class=\"tags\"]')\n",
    "    for i in QT_tags[0:1000]:\n",
    "        QT=i.text\n",
    "        QuoteTags.append(QT)\n",
    "    \n",
    "    Next_Click=driver.find_element(By.XPATH,'/html/body/div[1]/div[2]/div/div/div/div[1]/div/div[4]/li[12]/a')\n",
    "    Next_Click.click() \n",
    "    time.sleep(2)\n",
    "    #/html/body/div[1]/div[2]/div/div/div/div[1]/div/div[4]/li[12]/a\n",
    "    #//a[@href=\"top_quotes.html?p=',p+1,'\"]"
   ]
  },
  {
   "cell_type": "code",
   "execution_count": 25,
   "id": "d13586fa",
   "metadata": {},
   "outputs": [
    {
     "name": "stdout",
     "output_type": "stream",
     "text": [
      "1300 1300 1300\n"
     ]
    }
   ],
   "source": [
    "print(len(Author),len(Quotes),len(QuoteTags))"
   ]
  },
  {
   "cell_type": "code",
   "execution_count": 18,
   "id": "c71b7a95",
   "metadata": {},
   "outputs": [],
   "source": [
    "Author.clear()\n",
    "Quotes.clear()\n",
    "QuoteTags.clear()"
   ]
  },
  {
   "cell_type": "code",
   "execution_count": 26,
   "id": "b24493c8",
   "metadata": {},
   "outputs": [
    {
     "data": {
      "text/html": [
       "<div>\n",
       "<style scoped>\n",
       "    .dataframe tbody tr th:only-of-type {\n",
       "        vertical-align: middle;\n",
       "    }\n",
       "\n",
       "    .dataframe tbody tr th {\n",
       "        vertical-align: top;\n",
       "    }\n",
       "\n",
       "    .dataframe thead th {\n",
       "        text-align: right;\n",
       "    }\n",
       "</style>\n",
       "<table border=\"1\" class=\"dataframe\">\n",
       "  <thead>\n",
       "    <tr style=\"text-align: right;\">\n",
       "      <th></th>\n",
       "      <th>Author</th>\n",
       "      <th>Quotes</th>\n",
       "      <th>Quote Tags</th>\n",
       "    </tr>\n",
       "  </thead>\n",
       "  <tbody>\n",
       "    <tr>\n",
       "      <th>0</th>\n",
       "      <td>Michael Porter</td>\n",
       "      <td>The essence of strategy is choosing what not t...</td>\n",
       "      <td>Essence, Deep Thought, Transcendentalism</td>\n",
       "    </tr>\n",
       "    <tr>\n",
       "      <th>1</th>\n",
       "      <td>Golda Meir</td>\n",
       "      <td>One cannot and must not try to erase the past ...</td>\n",
       "      <td>Inspiration, Past, Trying</td>\n",
       "    </tr>\n",
       "    <tr>\n",
       "      <th>2</th>\n",
       "      <td>Theodore Roosevelt</td>\n",
       "      <td>Patriotism means to stand by the country. It d...</td>\n",
       "      <td>Country, Peace, War</td>\n",
       "    </tr>\n",
       "    <tr>\n",
       "      <th>3</th>\n",
       "      <td>Nelson Mandela</td>\n",
       "      <td>Death is something inevitable. When a man has ...</td>\n",
       "      <td>Inspirational, Motivational, Death</td>\n",
       "    </tr>\n",
       "    <tr>\n",
       "      <th>4</th>\n",
       "      <td>Erma Bombeck</td>\n",
       "      <td>You have to love a nation that celebrates its ...</td>\n",
       "      <td>4th Of July, Food, Patriotic</td>\n",
       "    </tr>\n",
       "    <tr>\n",
       "      <th>...</th>\n",
       "      <td>...</td>\n",
       "      <td>...</td>\n",
       "      <td>...</td>\n",
       "    </tr>\n",
       "    <tr>\n",
       "      <th>1295</th>\n",
       "      <td>Sydney J. Harris</td>\n",
       "      <td>Regret for the things we did can be tempered b...</td>\n",
       "      <td>Love, Inspirational, Motivational</td>\n",
       "    </tr>\n",
       "    <tr>\n",
       "      <th>1296</th>\n",
       "      <td>Hunter S. Thompson</td>\n",
       "      <td>America... just a nation of two hundred millio...</td>\n",
       "      <td>Gun, Two, Qualms About</td>\n",
       "    </tr>\n",
       "    <tr>\n",
       "      <th>1297</th>\n",
       "      <td>Jim Rohn</td>\n",
       "      <td>For every disciplined effort there is a multip...</td>\n",
       "      <td>Inspirational, Greatness, Best Effort</td>\n",
       "    </tr>\n",
       "    <tr>\n",
       "      <th>1298</th>\n",
       "      <td>Ram Dass</td>\n",
       "      <td>The spiritual journey is individual, highly pe...</td>\n",
       "      <td>Spiritual, Truth, Yoga</td>\n",
       "    </tr>\n",
       "    <tr>\n",
       "      <th>1299</th>\n",
       "      <td>Plutarch</td>\n",
       "      <td>The mind is not a vessel to be filled but a fi...</td>\n",
       "      <td>Inspirational, Leadership, Education</td>\n",
       "    </tr>\n",
       "  </tbody>\n",
       "</table>\n",
       "<p>1300 rows × 3 columns</p>\n",
       "</div>"
      ],
      "text/plain": [
       "                  Author                                             Quotes  \\\n",
       "0         Michael Porter  The essence of strategy is choosing what not t...   \n",
       "1             Golda Meir  One cannot and must not try to erase the past ...   \n",
       "2     Theodore Roosevelt  Patriotism means to stand by the country. It d...   \n",
       "3         Nelson Mandela  Death is something inevitable. When a man has ...   \n",
       "4           Erma Bombeck  You have to love a nation that celebrates its ...   \n",
       "...                  ...                                                ...   \n",
       "1295    Sydney J. Harris  Regret for the things we did can be tempered b...   \n",
       "1296  Hunter S. Thompson  America... just a nation of two hundred millio...   \n",
       "1297            Jim Rohn  For every disciplined effort there is a multip...   \n",
       "1298            Ram Dass  The spiritual journey is individual, highly pe...   \n",
       "1299            Plutarch  The mind is not a vessel to be filled but a fi...   \n",
       "\n",
       "                                    Quote Tags  \n",
       "0     Essence, Deep Thought, Transcendentalism  \n",
       "1                    Inspiration, Past, Trying  \n",
       "2                          Country, Peace, War  \n",
       "3           Inspirational, Motivational, Death  \n",
       "4                 4th Of July, Food, Patriotic  \n",
       "...                                        ...  \n",
       "1295         Love, Inspirational, Motivational  \n",
       "1296                    Gun, Two, Qualms About  \n",
       "1297     Inspirational, Greatness, Best Effort  \n",
       "1298                    Spiritual, Truth, Yoga  \n",
       "1299      Inspirational, Leadership, Education  \n",
       "\n",
       "[1300 rows x 3 columns]"
      ]
     },
     "execution_count": 26,
     "metadata": {},
     "output_type": "execute_result"
    }
   ],
   "source": [
    "df=pd.DataFrame({'Author':Author,'Quotes':Quotes,'Quote Tags':QuoteTags})\n",
    "df"
   ]
  },
  {
   "cell_type": "code",
   "execution_count": null,
   "id": "73d84def",
   "metadata": {},
   "outputs": [],
   "source": []
  }
 ],
 "metadata": {
  "kernelspec": {
   "display_name": "Python 3 (ipykernel)",
   "language": "python",
   "name": "python3"
  },
  "language_info": {
   "codemirror_mode": {
    "name": "ipython",
    "version": 3
   },
   "file_extension": ".py",
   "mimetype": "text/x-python",
   "name": "python",
   "nbconvert_exporter": "python",
   "pygments_lexer": "ipython3",
   "version": "3.9.12"
  }
 },
 "nbformat": 4,
 "nbformat_minor": 5
}

{
 "cells": [
  {
   "cell_type": "code",
   "execution_count": 8,
   "id": "655230a5",
   "metadata": {},
   "outputs": [],
   "source": [
    "from bs4 import BeautifulSoup\n",
    "import requests\n",
    "import re\n",
    "import pandas as pd"
   ]
  },
  {
   "cell_type": "code",
   "execution_count": 9,
   "id": "8fe22a19",
   "metadata": {},
   "outputs": [],
   "source": [
    "url='https://www.imdb.com/india/top-rated-indian-movies/'\n",
    "responce=requests.get(url)\n",
    "soup=BeautifulSoup(responce.text,'html.parser')"
   ]
  },
  {
   "cell_type": "code",
   "execution_count": 10,
   "id": "670f8f13",
   "metadata": {},
   "outputs": [],
   "source": [
    "movies = soup.select('td.titleColumn')\n",
    "crew = [a.attrs.get('title') for a in soup.select('td.titleColumn a')]\n",
    "ratings = [b.attrs.get('data-value')\n",
    "        for b in soup.select('td.posterColumn span[name=ir]')]"
   ]
  },
  {
   "cell_type": "code",
   "execution_count": 11,
   "id": "a48653f7",
   "metadata": {},
   "outputs": [],
   "source": [
    "list=[]\n",
    "\n",
    "for index in range(0, len(movies)-150):\n",
    "\n",
    "    # Separating movie into: 'place',\n",
    "    # 'title', 'year'\n",
    "    movie_string = movies[index].get_text()\n",
    "    movie = (' '.join(movie_string.split()).replace('.', ''))\n",
    "    movie_title = movie[len(str(index))+1:-7]\n",
    "    year = re.search('\\((.*?)\\)', movie_string).group(1)\n",
    "    place = movie[:len(str(index))-(len(movie))]\n",
    "    data = {\"place\": place,\n",
    "            \"movie_title\": movie_title,\n",
    "            \"rating\": ratings[index],\n",
    "            \"year\": year\n",
    "            }\n",
    "    list.append(data)"
   ]
  },
  {
   "cell_type": "code",
   "execution_count": 12,
   "id": "35e3a775",
   "metadata": {
    "scrolled": true
   },
   "outputs": [
    {
     "name": "stdout",
     "output_type": "stream",
     "text": [
      "1 - Ramayana: The Legend of Prince Rama (1993) - 8.538453820706298\n",
      "2 - Rocketry: The Nambi Effect (2022) - 8.417551164290465\n",
      "3 - Golmaal (1979) - 8.39676702790395\n",
      "4 - Nayakan (1987) - 8.392095812074777\n",
      "5 - Anbe Sivam (2003) - 8.388020265408137\n",
      "6 - 777 Charlie (2022) - 8.387246537276976\n",
      "7 - Jai Bhim (2021) - 8.368434329103124\n",
      "8 - Pariyerum Perumal (2018) - 8.359065681421495\n",
      "9 - 3 Idiots (2009) - 8.352705663524954\n",
      "1 -  Manichitrathazhu (1993) - 8.352178581196972\n",
      "11 - Apur Sansar (1959) - 8.350452660091074\n",
      "12 - #Home (2021) - 8.318114105161252\n",
      "13 - Black Friday (2004) - 8.312386965238243\n",
      "14 - Soorarai Pottru (2020) - 8.310169307224244\n",
      "15 - Kumbalangi Nights (2019) - 8.308069478541565\n",
      "16 - Taare Zameen Par (2007) - 8.300795286502314\n",
      "17 - C/o Kancharapalem (2018) - 8.300298625379739\n",
      "18 - Kireedam (1989) - 8.289943878561129\n",
      "19 - Dangal (2016) - 8.280684759048912\n",
      "20 - Kaithi (2019) - 8.263924299133803\n",
      "21 - Jersey (2019) - 8.259591083740608\n",
      "22 - 96 (2018) - 8.250279121374419\n",
      "23 - Natsamrat (2016) - 8.231399464492558\n",
      "24 - Asuran (2019) - 8.229676951557025\n",
      "25 - Thevar Magan (1992) - 8.227748864989353\n",
      "26 - Drishyam 2 (2021) - 8.22680177617566\n",
      "27 - Visaaranai (2015) - 8.220075030450113\n",
      "28 - Sita Ramam (2022) - 8.218961109059297\n",
      "29 - Thalapathi (1991) - 8.210805083874032\n",
      "30 - Sarpatta Parambarai (2021) - 8.20597827624364\n",
      "31 - Pather Panchali (1955) - 8.2044498094008\n",
      "32 - Nadodikkattu (1987) - 8.187077965870373\n",
      "33 - Jaane Bhi Do Yaaro (1983) - 8.177200954403279\n",
      "34 - Thani Oruvan (2015) - 8.174790151294003\n",
      "35 - Drishyam (2013) - 8.174116028150195\n",
      "36 - Sardar Udham (2021) - 8.170922051240654\n",
      "37 - Aparajito (1956) - 8.168379103911638\n",
      "38 - Vada Chennai (2018) - 8.164801309586778\n",
      "39 - Khosla Ka Ghosla! (2006) - 8.163951257761374\n",
      "40 - Ratsasan (2018) - 8.146299017759933\n",
      "41 - Anniyan (2005) - 8.145184849523213\n",
      "42 - Chupke Chupke (1975) - 8.14247783144377\n",
      "43 - Peranbu (2018) - 8.133260599950972\n",
      "44 - Mahanati (2018) - 8.13161463812574\n",
      "45 - Gangs of Wasseypur (2012) - 8.130615814560475\n",
      "46 - Satya (1998) - 8.128058439409642\n",
      "47 - Bangalore Days (2014) - 8.127875559973507\n",
      "48 - Drishyam (2015) - 8.126912340455622\n",
      "49 - Premam (2015) - 8.125413255257735\n",
      "50 - Agent Sai Srinivasa Athreya (2019) - 8.12482867779916\n",
      "51 - Devasuram (1993) - 8.116768463904556\n",
      "52 - Super Deluxe (2019) - 8.110609602097721\n",
      "53 - Bhaag Milkha Bhaag (2013) - 8.108035277311918\n",
      "54 - Tumbbad (2018) - 8.106804330010364\n",
      "55 - Andhadhun (2018) - 8.105724242957544\n",
      "56 - Vikram Vedha (2017) - 8.102191423735713\n",
      "57 - Guide (1965) - 8.09950614857732\n",
      "58 - Chithram (1988) - 8.09608731774131\n",
      "59 - Kannathil Muthamittal (2002) - 8.091617245705649\n",
      "60 - Zindagi Na Milegi Dobara (2011) - 8.090496671500972\n",
      "61 - Sairat (2016) - 8.08981846411357\n",
      "62 - Drishyam 2 (2022) - 8.08828934262384\n",
      "63 - Shahid (2012) - 8.088211814687426\n",
      "64 - Vikram (2022) - 8.08666038446719\n",
      "65 - Chhichhore (2019) - 8.084145486784376\n",
      "66 - Aruvi (2016) - 8.083703646836597\n",
      "67 - Paan Singh Tomar (2012) - 8.081362909741756\n",
      "68 - Iruvar (1997) - 8.0785977965615\n",
      "69 - Swades: We, the People (2004) - 8.076331214036665\n",
      "70 - Pyaasa (1957) - 8.072168940859191\n",
      "71 - Chak De! India (2007) - 8.069002996219137\n",
      "72 - Munna Bhai MBBS (2003) - 8.06893680855244\n",
      "73 - Spadikam (1995) - 8.067126201047484\n",
      "74 - Uri: The Surgical Strike (2019) - 8.066749810350892\n",
      "75 - Mudhalvan (1999) - 8.06356383996666\n",
      "76 - Black (2005) - 8.062426994122863\n",
      "77 - Jo Jeeta Wohi Sikandar (1992) - 8.060527949313052\n",
      "78 - Hera Pheri (2000) - 8.055599470671195\n",
      "79 - Dhuruvangal Pathinaaru (2016) - 8.054944227034133\n",
      "80 - Lagaan: Once Upon a Time in India (2001) - 8.052273997945457\n",
      "81 - Papanasam (2015) - 8.05164676046272\n",
      "82 - Pudhu Pettai (2006) - 8.049579530034158\n",
      "83 - PK (2014) - 8.045395971282142\n",
      "84 - Queen (2013) - 8.044552319951928\n",
      "85 - Article 15 (2019) - 8.04258875262269\n",
      "86 - Talvar (2015) - 8.042465189041925\n",
      "87 - Mandela (2021) - 8.039940632909042\n",
      "88 - Soodhu Kavvum (2013) - 8.038977327954996\n",
      "89 - OMG: Oh My God! (2012) - 8.038205065666157\n",
      "90 - Sarfarosh (1999) - 8.037897983653473\n",
      "91 - Sholay (1975) - 8.037030221614415\n",
      "92 - Udaan (2010) - 8.03376496113849\n",
      "93 - Kantara (2022) - 8.033125072534453\n",
      "94 - Barfi! (2012) - 8.032300385908586\n",
      "95 - The Legend of Bhagat Singh (2002) - 8.028779140278166\n",
      "96 - Jigarthanda (2014) - 8.028388932444688\n",
      "97 - Kaakkaa Muttai (2014) - 8.02659151124357\n",
      "98 - Ustad Hotel (2012) - 8.023307483201856\n",
      "99 - Theeran Adhigaaram Ondru (2017) - 8.021393343067777\n",
      "10 -  Baahubali 2: The Conclusion (2017) - 8.020000845457517\n"
     ]
    }
   ],
   "source": [
    "for movie in list:\n",
    "    print(movie['place'], '-', movie['movie_title'], '('+movie['year'] +') -', movie['rating'])"
   ]
  },
  {
   "cell_type": "code",
   "execution_count": 13,
   "id": "8855daa0",
   "metadata": {},
   "outputs": [],
   "source": [
    "df = pd.DataFrame(list)\n",
    "df.to_csv('imdb_top_Indian_100_movies.csv',index=False)"
   ]
  },
  {
   "cell_type": "code",
   "execution_count": null,
   "id": "427ef905",
   "metadata": {},
   "outputs": [],
   "source": []
  },
  {
   "cell_type": "code",
   "execution_count": null,
   "id": "4712211e",
   "metadata": {},
   "outputs": [],
   "source": []
  }
 ],
 "metadata": {
  "kernelspec": {
   "display_name": "Python 3 (ipykernel)",
   "language": "python",
   "name": "python3"
  },
  "language_info": {
   "codemirror_mode": {
    "name": "ipython",
    "version": 3
   },
   "file_extension": ".py",
   "mimetype": "text/x-python",
   "name": "python",
   "nbconvert_exporter": "python",
   "pygments_lexer": "ipython3",
   "version": "3.9.12"
  }
 },
 "nbformat": 4,
 "nbformat_minor": 5
}

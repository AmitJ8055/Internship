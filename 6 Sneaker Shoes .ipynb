{
 "cells": [
  {
   "cell_type": "code",
   "execution_count": 1,
   "id": "25a3e414",
   "metadata": {},
   "outputs": [],
   "source": [
    "import selenium\n",
    "import pandas as pd\n",
    "from selenium import webdriver\n",
    "import warnings\n",
    "warnings.filterwarnings('ignore')\n",
    "from selenium.webdriver.common.by import By\n",
    "import time"
   ]
  },
  {
   "cell_type": "code",
   "execution_count": 2,
   "id": "78f9e851",
   "metadata": {},
   "outputs": [],
   "source": [
    "driver=webdriver.Chrome(r'C:\\Users\\Amit\\Data Science Practice\\chromedriver.exe')"
   ]
  },
  {
   "cell_type": "code",
   "execution_count": 3,
   "id": "c5222e43",
   "metadata": {},
   "outputs": [],
   "source": [
    "driver.get(\"https://www.flipkart.com/\")"
   ]
  },
  {
   "cell_type": "code",
   "execution_count": 4,
   "id": "bb571ee5",
   "metadata": {},
   "outputs": [],
   "source": [
    "#\n",
    "Login_Close=driver.find_element(By.XPATH,'//button[@class=\"_2KpZ6l _2doB4z\"]')\n",
    "Login_Close.click()\n",
    "\n",
    "Search=driver.find_element(By.CLASS_NAME,'_3704LK')\n",
    "Search.send_keys('sneakers')\n",
    "\n"
   ]
  },
  {
   "cell_type": "code",
   "execution_count": 5,
   "id": "4324b083",
   "metadata": {},
   "outputs": [],
   "source": [
    "Search_Click=driver.find_element(By.CLASS_NAME,'L0Z3Pu')\n",
    "Search_Click.click()"
   ]
  },
  {
   "cell_type": "code",
   "execution_count": 17,
   "id": "0f1abdc6",
   "metadata": {},
   "outputs": [],
   "source": [
    "#//div[@class=\"_2WkVRV\"]\n",
    "Brand1=[]\n",
    "ProductDiscription1=[]\n",
    "Price1=[]"
   ]
  },
  {
   "cell_type": "code",
   "execution_count": 25,
   "id": "4c5b617c",
   "metadata": {},
   "outputs": [],
   "source": [
    "start = 0\n",
    "end=3\n",
    "for page in range(start,end):\n",
    "    Brand_tags=driver.find_elements(By.XPATH,'//div[@class=\"_2WkVRV\"]')\n",
    "    for i in Brand_tags[0:100]:\n",
    "        BrandName=i.text\n",
    "        Brand1.append(BrandName)\n",
    "\n",
    "    Price_tags=driver.find_elements(By.XPATH,'//div[@class=\"_30jeq3\"]')\n",
    "    for i in Price_tags[0:100]:\n",
    "        PriceT=i.text\n",
    "        Price1.append(PriceT)\n",
    "    \n",
    "    Discription_tags=driver.find_elements(By.XPATH,'//a[@class=\"IRpwTa\"]')\n",
    "    for i in Discription_tags[0:100]:\n",
    "        Discription=i.text\n",
    "        ProductDiscription1.append(Discription)\n",
    "   \n",
    "    Next_Click=driver.find_element(By.XPATH,'//a[@class=\"_1LKTO3\"]')\n",
    "    Next_Click.click() \n",
    "    time.sleep(2)\n"
   ]
  },
  {
   "cell_type": "code",
   "execution_count": 26,
   "id": "4529da6f",
   "metadata": {},
   "outputs": [
    {
     "name": "stdout",
     "output_type": "stream",
     "text": [
      "200 200 189\n"
     ]
    }
   ],
   "source": [
    "print(len(Brand1),len(Price1),len(ProductDiscription1))"
   ]
  },
  {
   "cell_type": "code",
   "execution_count": 19,
   "id": "1c1b62f2",
   "metadata": {},
   "outputs": [],
   "source": [
    "#df=pd.DataFrame({'Band':Brand,'Product Discription':ProductDiscription,'Price':Price})\n",
    "#df"
   ]
  },
  {
   "cell_type": "code",
   "execution_count": 27,
   "id": "a44d3eb1",
   "metadata": {},
   "outputs": [],
   "source": [
    "driver.quit()"
   ]
  },
  {
   "cell_type": "code",
   "execution_count": null,
   "id": "36156c30",
   "metadata": {},
   "outputs": [],
   "source": []
  }
 ],
 "metadata": {
  "kernelspec": {
   "display_name": "Python 3 (ipykernel)",
   "language": "python",
   "name": "python3"
  },
  "language_info": {
   "codemirror_mode": {
    "name": "ipython",
    "version": 3
   },
   "file_extension": ".py",
   "mimetype": "text/x-python",
   "name": "python",
   "nbconvert_exporter": "python",
   "pygments_lexer": "ipython3",
   "version": "3.9.12"
  }
 },
 "nbformat": 4,
 "nbformat_minor": 5
}
